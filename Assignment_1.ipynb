{
  "nbformat": 4,
  "nbformat_minor": 0,
  "metadata": {
    "colab": {
      "provenance": [],
      "authorship_tag": "ABX9TyPvSu11int+tI/0wHb6ockz",
      "include_colab_link": true
    },
    "kernelspec": {
      "name": "python3",
      "display_name": "Python 3"
    },
    "language_info": {
      "name": "python"
    }
  },
  "cells": [
    {
      "cell_type": "markdown",
      "metadata": {
        "id": "view-in-github",
        "colab_type": "text"
      },
      "source": [
        "<a href=\"https://colab.research.google.com/github/NadimMahmud3219/bangla-text-summarization/blob/main/Assignment_1.ipynb\" target=\"_parent\"><img src=\"https://colab.research.google.com/assets/colab-badge.svg\" alt=\"Open In Colab\"/></a>"
      ]
    },
    {
      "cell_type": "code",
      "source": [
        "import os\n",
        "!apt install tesseract-ocr tesseract-ocr-ben\n",
        "!pip install pytesseract pillow\n"
      ],
      "metadata": {
        "colab": {
          "base_uri": "https://localhost:8080/"
        },
        "id": "ruNibb_frcfj",
        "outputId": "1010d203-242c-411c-8a6f-ad37f6e44f6c"
      },
      "execution_count": null,
      "outputs": [
        {
          "output_type": "stream",
          "name": "stdout",
          "text": [
            "Reading package lists... Done\n",
            "Building dependency tree... Done\n",
            "Reading state information... Done\n",
            "tesseract-ocr is already the newest version (4.1.1-2.1build1).\n",
            "tesseract-ocr-ben is already the newest version (1:4.00~git30-7274cfa-1.1).\n",
            "0 upgraded, 0 newly installed, 0 to remove and 38 not upgraded.\n",
            "Requirement already satisfied: pytesseract in /usr/local/lib/python3.12/dist-packages (0.3.13)\n",
            "Requirement already satisfied: pillow in /usr/local/lib/python3.12/dist-packages (11.3.0)\n",
            "Requirement already satisfied: packaging>=21.3 in /usr/local/lib/python3.12/dist-packages (from pytesseract) (25.0)\n"
          ]
        }
      ]
    },
    {
      "cell_type": "code",
      "execution_count": null,
      "metadata": {
        "colab": {
          "base_uri": "https://localhost:8080/"
        },
        "id": "kvHyEUsrqsxa",
        "outputId": "5992e7c6-728e-4843-fa6e-6fe0cd8aaa5b"
      },
      "outputs": [
        {
          "output_type": "stream",
          "name": "stdout",
          "text": [
            "Image loaded successfully!\n"
          ]
        }
      ],
      "source": [
        "from PIL import Image\n",
        "\n",
        "try:\n",
        "    img = Image.open('/content/FB_Bengali_Newspaper_43.jpg')\n",
        "    print(\"Image loaded successfully!\")\n",
        "\n",
        "    # display(img)\n",
        "except FileNotFoundError:\n",
        "    print(\"Error: Image file not found. Please check the path.\")\n",
        "except Exception as e:\n",
        "    print(f\"An error occurred: {e}\")"
      ]
    },
    {
      "cell_type": "code",
      "source": [
        "import os\n",
        "\n",
        "# Set the TESSDATA_PREFIX environment variable to the tessdata directory\n",
        "os.environ['TESSDATA_PREFIX'] = '/usr/share/tesseract-ocr/4.00/tessdata'\n",
        "\n",
        "print(f\"TESSDATA_PREFIX set to: {os.environ['TESSDATA_PREFIX']}\")"
      ],
      "metadata": {
        "colab": {
          "base_uri": "https://localhost:8080/"
        },
        "id": "lrH3W5v6rGwg",
        "outputId": "1b62ea7b-2227-43a8-ba71-0d9d8428f075"
      },
      "execution_count": null,
      "outputs": [
        {
          "output_type": "stream",
          "name": "stdout",
          "text": [
            "TESSDATA_PREFIX set to: /usr/share/tesseract-ocr/4.00/tessdata\n"
          ]
        }
      ]
    },
    {
      "cell_type": "code",
      "source": [
        "from PIL import Image\n",
        "import pytesseract"
      ],
      "metadata": {
        "id": "1_7IzIBqsTtF"
      },
      "execution_count": null,
      "outputs": []
    },
    {
      "cell_type": "code",
      "source": [
        "from PIL import Image\n",
        "import pytesseract\n",
        "\n",
        "# Optional: path to tesseract executable (Colab usually finds it automatically)\n",
        "pytesseract.pytesseract.tesseract_cmd = r'/usr/bin/tesseract'\n",
        "\n",
        "# Load image\n",
        "img = Image.open('/content/FB_Bengali_Newspaper_43.jpg')\n",
        "\n",
        "# Perform OCR with Bengali language\n",
        "text = pytesseract.image_to_string(img, lang='ben')\n",
        "print(\"Extracted Text:\")\n",
        "print(text)\n"
      ],
      "metadata": {
        "colab": {
          "base_uri": "https://localhost:8080/"
        },
        "id": "WbLx6_2ar2AA",
        "outputId": "9754bec2-4c3b-444a-8dbe-3053ebca32e5"
      },
      "execution_count": null,
      "outputs": [
        {
          "output_type": "stream",
          "name": "stdout",
          "text": [
            "Extracted Text:\n",
            " \n",
            "\n",
            "মেডিক্যাল কলেজ সংলগ্ন এলাকায়\n",
            "খেল। এ নিয়ে এলাকায় শোরগোল\n",
            "শুরু হয়েছে। স্থানীয় বাসিন্দারা এলাকায়\n",
            "সিসি ক্যামেরার মাধ্যমে নজরদারির\n",
            "দাবি জানিয়েছেন।\n",
            "\n",
            "মাত্র কয়েক দিন আছেই মেডিক্যাল\n",
            "লাইন ও ৩৪ নম্বর জাতীয় সড়কের\n",
            "মাঝে এমনই এক সদ্যোজাতের খুবলে\n",
            "খাওয়া দেহ কুকুরদের মুখ থেকে উদ্ধার\n",
            "করেছিলেন পথচারীরা । ফের সেই\n",
            "ঘটনারই পুনরাবৃত্তি হলো। এদিনের\n",
            "ঘটনা মেডিক্যাল কলেজের কাছেই ৩৪\n",
            "কালী* নামে. এলাকার প্রসিদ্ধ এক\n",
            "মন্দিরের চাতালে। স্থানীয় বাসিন্দা তথা\n",
            "একটি বেসরকারি মানবাধিকার সংস্থার\n",
            "কর্তাঁশুভদীপ সরকার বলেন, সকালে\n",
            "যাওয়ার সময় দেখতে পাই, মন্দিরের\n",
            "\n",
            "   \n",
            " \n",
            " \n",
            "\n",
            "খবর দিই। দেহটি দেখে মনে হয়েছে\n",
            "কয়েক দিনের পুরোনো। মেডিক্যাল\n",
            "শিশুটির পরিবার কোথাও হয়তো ফেলে\n",
            "গিয়েছিল। কুকুরে দেখতে পেয়ে টেনে\n",
            "এনেছে। এলাকায় হামেশাই এমন\n",
            "অমানবিক ঘটনা ঘটছে। যে কোনও\n",
            "ভাবেই হোক, এলাকায় নজরদারি\n",
            "বাড়ানো দরকার। মেয়াদ শেষ হয়ে\n",
            "যাওয়ায় মালদহে বর্তমানে সিডব্িউসির\n",
            "কমিটি নেই। বিদায়ী কমিটির\n",
            "'ওই এলাকায় একাধিক চিকিৎসা কেন্দ্র\n",
            "রয়েছে। এমন নিষ্ঠুর কাজের দায়\n",
            "কেউই নিতে চায় না। জেলা প্রশীসন\n",
            "ও পুলিশের সঙ্গে কথা বলব, যাতে\n",
            "এলাকায় সিসি ক্যামেরার সংখ্যা বাড়িয়ে\n",
            "নজরদারি রাখা যায়। যেই এমন কাজ\n",
            "করুক, তার শাস্তি হওয়া দরকার ।'\n",
            "\n",
            "১\n",
            "\n",
            "কাদুয়া এলাকার সমুদ্র সৈকতে এক\n",
            "\n",
            "মহিলার মৃতদেহ উদ্ধার করল পুলিশ।\n",
            "মঙ্গলবার সকালে মৎস্যজীবীরা বছর\n",
            "\n",
            "৪৫-এর এক মহিলার বিবস্ত্র পচাগলা\n",
            "\n",
            "দেহ পড়ে থাকতে দেখে পুলিশে খবর\n",
            "দেন। জুনপুট কোস্টাল থানার পুলিশ\n",
            "আগে হয়েছে। সমুদ্রের জলে ভেদে\n",
            "রঃ র এ\n",
            "\n",
            "0) রারারররররারারারারাারারারারাাাররররারারারারারারারারারারাররারিরউ\n",
            "\f\n"
          ]
        }
      ]
    },
    {
      "cell_type": "code",
      "source": [
        "import re\n",
        "import nltk\n",
        "nltk.download('stopwords')\n",
        "from nltk.corpus import stopwords"
      ],
      "metadata": {
        "colab": {
          "base_uri": "https://localhost:8080/"
        },
        "id": "UtDGDiPlr7fv",
        "outputId": "f2d5b450-ea84-4c68-db44-d2054cca2823"
      },
      "execution_count": null,
      "outputs": [
        {
          "output_type": "stream",
          "name": "stderr",
          "text": [
            "[nltk_data] Downloading package stopwords to /root/nltk_data...\n",
            "[nltk_data]   Package stopwords is already up-to-date!\n"
          ]
        }
      ]
    },
    {
      "cell_type": "code",
      "source": [
        "bangla_stopwords = [\n",
        "    'এবং', 'কিন্তু', 'যদি', 'তবে', 'যে', 'যা', 'কে', 'প্রতি', 'কোনও',\n",
        "    'নিয়ে', 'কাছে', 'একটি', 'এটি', 'তাদের', 'আমরা', 'আমি', 'তিনি', 'তিনি',\n",
        "    'হয়', 'ছিল', 'হতে', 'হয়েছে', 'করা', 'থেকে', 'জন্য'\n",
        "    # Add more stopwords if needed\n",
        "]\n"
      ],
      "metadata": {
        "id": "vnJ-hTHVsvFI"
      },
      "execution_count": null,
      "outputs": []
    },
    {
      "cell_type": "code",
      "source": [
        "def clean_text(text):\n",
        "    # Remove digits and punctuation\n",
        "    text = re.sub(r'[^\\u0980-\\u09FF\\s]', '', text)  # keep only Bangla unicode letters\n",
        "    # Remove extra spaces\n",
        "    text = re.sub(r'\\s+', ' ', text)\n",
        "    text = text.strip()\n",
        "    return text\n"
      ],
      "metadata": {
        "id": "zBD25WF1syKe"
      },
      "execution_count": null,
      "outputs": []
    },
    {
      "cell_type": "code",
      "source": [
        "def remove_stopwords(text):\n",
        "    words = text.split()\n",
        "    words = [word for word in words if word not in bangla_stopwords]\n",
        "    return ' '.join(words)\n"
      ],
      "metadata": {
        "id": "JoAITYnrs1OY"
      },
      "execution_count": null,
      "outputs": []
    },
    {
      "cell_type": "code",
      "source": [
        "cleaned_text = clean_text(text)\n",
        "final_text = remove_stopwords(cleaned_text)\n",
        "\n",
        "print(\"Cleaned Text:\")\n",
        "print(final_text)\n"
      ],
      "metadata": {
        "colab": {
          "base_uri": "https://localhost:8080/"
        },
        "id": "7N7a8zb1s2wn",
        "outputId": "f2314781-867e-48f1-c71e-64b299d54b97"
      },
      "execution_count": null,
      "outputs": [
        {
          "output_type": "stream",
          "name": "stdout",
          "text": [
            "Cleaned Text:\n",
            "মেডিক্যাল কলেজ সংলগ্ন এলাকায় খেল এ এলাকায় শোরগোল শুরু স্থানীয় বাসিন্দারা এলাকায় সিসি ক্যামেরার মাধ্যমে নজরদারির দাবি জানিয়েছেন মাত্র কয়েক দিন আছেই মেডিক্যাল লাইন ও ৩৪ নম্বর জাতীয় সড়কের মাঝে এমনই এক সদ্যোজাতের খুবলে খাওয়া দেহ কুকুরদের মুখ উদ্ধার করেছিলেন পথচারীরা ফের সেই ঘটনারই পুনরাবৃত্তি হলো এদিনের ঘটনা মেডিক্যাল কলেজের কাছেই ৩৪ কালী নামে এলাকার প্রসিদ্ধ এক মন্দিরের চাতালে স্থানীয় বাসিন্দা তথা বেসরকারি মানবাধিকার সংস্থার কর্তাঁশুভদীপ সরকার বলেন সকালে যাওয়ার সময় দেখতে পাই মন্দিরের খবর দিই দেহটি দেখে মনে কয়েক দিনের পুরোনো মেডিক্যাল শিশুটির পরিবার কোথাও হয়তো ফেলে গিয়েছিল কুকুরে দেখতে পেয়ে টেনে এনেছে এলাকায় হামেশাই এমন অমানবিক ঘটনা ঘটছে ভাবেই হোক এলাকায় নজরদারি বাড়ানো দরকার মেয়াদ শেষ হয়ে যাওয়ায় মালদহে বর্তমানে সিডব্িউসির কমিটি নেই বিদায়ী কমিটির ওই এলাকায় একাধিক চিকিৎসা কেন্দ্র রয়েছে এমন নিষ্ঠুর কাজের দায় কেউই নিতে চায় না জেলা প্রশীসন ও পুলিশের সঙ্গে কথা বলব যাতে এলাকায় সিসি ক্যামেরার সংখ্যা বাড়িয়ে নজরদারি রাখা যায় যেই এমন কাজ করুক তার শাস্তি হওয়া দরকার ১ কাদুয়া এলাকার সমুদ্র সৈকতে এক মহিলার মৃতদেহ উদ্ধার করল পুলিশ মঙ্গলবার সকালে মৎস্যজীবীরা বছর ৪৫এর এক মহিলার বিবস্ত্র পচাগলা দেহ পড়ে থাকতে দেখে পুলিশে খবর দেন জুনপুট কোস্টাল থানার পুলিশ আগে সমুদ্রের জলে ভেদে রঃ র এ রারারররররারারারারাারারারারাাাররররারারারারারারারারারারাররারিরউ\n"
          ]
        }
      ]
    },
    {
      "cell_type": "code",
      "source": [
        "def preprocess_bangla_text(text):\n",
        "    text = clean_text(text)\n",
        "    text = remove_stopwords(text)\n",
        "    return text\n",
        "\n",
        "processed_text = preprocess_bangla_text(text)\n",
        "print(processed_text)\n"
      ],
      "metadata": {
        "colab": {
          "base_uri": "https://localhost:8080/"
        },
        "id": "9FCiGXqzs4rv",
        "outputId": "898a5c75-2121-48b3-cc64-54ea22277c3a"
      },
      "execution_count": null,
      "outputs": [
        {
          "output_type": "stream",
          "name": "stdout",
          "text": [
            "মেডিক্যাল কলেজ সংলগ্ন এলাকায় খেল এ এলাকায় শোরগোল শুরু স্থানীয় বাসিন্দারা এলাকায় সিসি ক্যামেরার মাধ্যমে নজরদারির দাবি জানিয়েছেন মাত্র কয়েক দিন আছেই মেডিক্যাল লাইন ও ৩৪ নম্বর জাতীয় সড়কের মাঝে এমনই এক সদ্যোজাতের খুবলে খাওয়া দেহ কুকুরদের মুখ উদ্ধার করেছিলেন পথচারীরা ফের সেই ঘটনারই পুনরাবৃত্তি হলো এদিনের ঘটনা মেডিক্যাল কলেজের কাছেই ৩৪ কালী নামে এলাকার প্রসিদ্ধ এক মন্দিরের চাতালে স্থানীয় বাসিন্দা তথা বেসরকারি মানবাধিকার সংস্থার কর্তাঁশুভদীপ সরকার বলেন সকালে যাওয়ার সময় দেখতে পাই মন্দিরের খবর দিই দেহটি দেখে মনে কয়েক দিনের পুরোনো মেডিক্যাল শিশুটির পরিবার কোথাও হয়তো ফেলে গিয়েছিল কুকুরে দেখতে পেয়ে টেনে এনেছে এলাকায় হামেশাই এমন অমানবিক ঘটনা ঘটছে ভাবেই হোক এলাকায় নজরদারি বাড়ানো দরকার মেয়াদ শেষ হয়ে যাওয়ায় মালদহে বর্তমানে সিডব্িউসির কমিটি নেই বিদায়ী কমিটির ওই এলাকায় একাধিক চিকিৎসা কেন্দ্র রয়েছে এমন নিষ্ঠুর কাজের দায় কেউই নিতে চায় না জেলা প্রশীসন ও পুলিশের সঙ্গে কথা বলব যাতে এলাকায় সিসি ক্যামেরার সংখ্যা বাড়িয়ে নজরদারি রাখা যায় যেই এমন কাজ করুক তার শাস্তি হওয়া দরকার ১ কাদুয়া এলাকার সমুদ্র সৈকতে এক মহিলার মৃতদেহ উদ্ধার করল পুলিশ মঙ্গলবার সকালে মৎস্যজীবীরা বছর ৪৫এর এক মহিলার বিবস্ত্র পচাগলা দেহ পড়ে থাকতে দেখে পুলিশে খবর দেন জুনপুট কোস্টাল থানার পুলিশ আগে সমুদ্রের জলে ভেদে রঃ র এ রারারররররারারারারাারারারারাাাররররারারারারারারারারারারাররারিরউ\n"
          ]
        }
      ]
    },
    {
      "cell_type": "code",
      "source": [
        "!pip install transformers\n",
        "\n",
        "from transformers import AutoTokenizer, AutoModelForSeq2SeqLM\n",
        "\n",
        "# Load Bangla-friendly summarization model\n",
        "model_name = \"csebuetnlp/mT5_multilingual_XLSum\"\n",
        "tokenizer = AutoTokenizer.from_pretrained(model_name)\n",
        "model = AutoModelForSeq2SeqLM.from_pretrained(model_name)\n",
        "\n",
        "# Tokenize input text\n",
        "inputs = tokenizer(processed_text, return_tensors=\"pt\", truncation=True, max_length=1024)\n",
        "\n",
        "# Generate summary\n",
        "summary_ids = model.generate(\n",
        "    inputs['input_ids'],\n",
        "    max_length=150,   # adjust as needed\n",
        "    min_length=50,    # adjust as needed\n",
        "    length_penalty=2.0,\n",
        "    num_beams=4,\n",
        "    early_stopping=True\n",
        ")\n",
        "\n",
        "# Decode summary\n",
        "summary = tokenizer.decode(summary_ids[0], skip_special_tokens=True)\n",
        "\n",
        "print(\"Summary:\")\n",
        "print(summary)\n"
      ],
      "metadata": {
        "colab": {
          "base_uri": "https://localhost:8080/"
        },
        "id": "fsL7dgQws77m",
        "outputId": "31047ff1-5143-4875-9431-6f97fdab67d5"
      },
      "execution_count": null,
      "outputs": [
        {
          "output_type": "stream",
          "name": "stdout",
          "text": [
            "Requirement already satisfied: transformers in /usr/local/lib/python3.12/dist-packages (4.57.1)\n",
            "Requirement already satisfied: filelock in /usr/local/lib/python3.12/dist-packages (from transformers) (3.20.0)\n",
            "Requirement already satisfied: huggingface-hub<1.0,>=0.34.0 in /usr/local/lib/python3.12/dist-packages (from transformers) (0.35.3)\n",
            "Requirement already satisfied: numpy>=1.17 in /usr/local/lib/python3.12/dist-packages (from transformers) (2.0.2)\n",
            "Requirement already satisfied: packaging>=20.0 in /usr/local/lib/python3.12/dist-packages (from transformers) (25.0)\n",
            "Requirement already satisfied: pyyaml>=5.1 in /usr/local/lib/python3.12/dist-packages (from transformers) (6.0.3)\n",
            "Requirement already satisfied: regex!=2019.12.17 in /usr/local/lib/python3.12/dist-packages (from transformers) (2024.11.6)\n",
            "Requirement already satisfied: requests in /usr/local/lib/python3.12/dist-packages (from transformers) (2.32.4)\n",
            "Requirement already satisfied: tokenizers<=0.23.0,>=0.22.0 in /usr/local/lib/python3.12/dist-packages (from transformers) (0.22.1)\n",
            "Requirement already satisfied: safetensors>=0.4.3 in /usr/local/lib/python3.12/dist-packages (from transformers) (0.6.2)\n",
            "Requirement already satisfied: tqdm>=4.27 in /usr/local/lib/python3.12/dist-packages (from transformers) (4.67.1)\n",
            "Requirement already satisfied: fsspec>=2023.5.0 in /usr/local/lib/python3.12/dist-packages (from huggingface-hub<1.0,>=0.34.0->transformers) (2025.3.0)\n",
            "Requirement already satisfied: typing-extensions>=3.7.4.3 in /usr/local/lib/python3.12/dist-packages (from huggingface-hub<1.0,>=0.34.0->transformers) (4.15.0)\n",
            "Requirement already satisfied: hf-xet<2.0.0,>=1.1.3 in /usr/local/lib/python3.12/dist-packages (from huggingface-hub<1.0,>=0.34.0->transformers) (1.1.10)\n",
            "Requirement already satisfied: charset_normalizer<4,>=2 in /usr/local/lib/python3.12/dist-packages (from requests->transformers) (3.4.4)\n",
            "Requirement already satisfied: idna<4,>=2.5 in /usr/local/lib/python3.12/dist-packages (from requests->transformers) (3.11)\n",
            "Requirement already satisfied: urllib3<3,>=1.21.1 in /usr/local/lib/python3.12/dist-packages (from requests->transformers) (2.5.0)\n",
            "Requirement already satisfied: certifi>=2017.4.17 in /usr/local/lib/python3.12/dist-packages (from requests->transformers) (2025.10.5)\n",
            "Summary:\n",
            "মালদহে মেডিক্যাল কলেজ সংলগ্ন এলাকায় মঙ্গলবার সকালে এক সদ্যোজাতের খুবলে খাওয়া দেহ কুকুরে টেনে এনেছে স্থানীয় বাসিন্দারা এবং পুলিশের মধ্যে শোরগোল শুরু হয়েছে।\n"
          ]
        }
      ]
    },
    {
      "cell_type": "code",
      "source": [
        "import pandas as pd\n",
        "import os\n",
        "\n",
        "processed_text = processed_text  # cleaned Bangla text\n",
        "summary_text = summary           # summary generated from the model\n",
        "\n",
        "# CSV file path\n",
        "csv_file = \"/content/bangla_summaries.csv\"\n",
        "\n",
        "# Check if CSV already exists; if not, create a new DataFrame\n",
        "if os.path.exists(csv_file):\n",
        "    df = pd.read_csv(csv_file)\n",
        "else:\n",
        "    df = pd.DataFrame(columns=[\"processed_text\", \"summary\"])\n",
        "\n",
        "# Append new data\n",
        "df = pd.concat([df, pd.DataFrame([[processed_text, summary_text]], columns=[\"processed_text\", \"summary\"])], ignore_index=True)\n",
        "\n",
        "# Save to CSV (utf-8-sig ensures Bangla characters are saved properly)\n",
        "df.to_csv(csv_file, index=False, encoding='utf-8-sig')\n",
        "\n",
        "print(f\"Summary saved to {csv_file}\")\n"
      ],
      "metadata": {
        "colab": {
          "base_uri": "https://localhost:8080/"
        },
        "id": "iegrB0sdtbUj",
        "outputId": "9a4ac770-ecd1-41d4-de39-63893c29bda8"
      },
      "execution_count": null,
      "outputs": [
        {
          "output_type": "stream",
          "name": "stdout",
          "text": [
            "Summary saved to /content/bangla_summaries.csv\n"
          ]
        }
      ]
    },
    {
      "cell_type": "code",
      "source": [
        "new = pd.read_csv(\"/content/bangla_summaries.csv\")"
      ],
      "metadata": {
        "id": "EcHpSCWouYGV"
      },
      "execution_count": null,
      "outputs": []
    },
    {
      "cell_type": "code",
      "source": [
        "new"
      ],
      "metadata": {
        "colab": {
          "base_uri": "https://localhost:8080/",
          "height": 89
        },
        "id": "c0m4GEy0v-lB",
        "outputId": "d509ceab-4ce2-420e-d458-6c9aa43d76a8"
      },
      "execution_count": null,
      "outputs": [
        {
          "output_type": "execute_result",
          "data": {
            "text/plain": [
              "                                      processed_text  \\\n",
              "4  মেডিক্যাল কলেজ সংলগ্ন এলাকায় খেল এ এলাকায় শো...   \n",
              "\n",
              "                                             summary  \n",
              "4  মালদহে মেডিক্যাল কলেজ সংলগ্ন এলাকায় মঙ্গলবার ...  "
            ],
            "text/html": [
              "\n",
              "  <div id=\"df-97990bc1-ef2f-44c8-974c-ee1db4c29e5c\" class=\"colab-df-container\">\n",
              "    <div>\n",
              "<style scoped>\n",
              "    .dataframe tbody tr th:only-of-type {\n",
              "        vertical-align: middle;\n",
              "    }\n",
              "\n",
              "    .dataframe tbody tr th {\n",
              "        vertical-align: top;\n",
              "    }\n",
              "\n",
              "    .dataframe thead th {\n",
              "        text-align: right;\n",
              "    }\n",
              "</style>\n",
              "<table border=\"1\" class=\"dataframe\">\n",
              "  <thead>\n",
              "    <tr style=\"text-align: right;\">\n",
              "      <th></th>\n",
              "      <th>processed_text</th>\n",
              "      <th>summary</th>\n",
              "    </tr>\n",
              "  </thead>\n",
              "  <tbody>\n",
              "    <tr>\n",
              "      <th>4</th>\n",
              "      <td>মেডিক্যাল কলেজ সংলগ্ন এলাকায় খেল এ এলাকায় শো...</td>\n",
              "      <td>মালদহে মেডিক্যাল কলেজ সংলগ্ন এলাকায় মঙ্গলবার ...</td>\n",
              "    </tr>\n",
              "  </tbody>\n",
              "</table>\n",
              "</div>\n",
              "    <div class=\"colab-df-buttons\">\n",
              "\n",
              "  <div class=\"colab-df-container\">\n",
              "    <button class=\"colab-df-convert\" onclick=\"convertToInteractive('df-97990bc1-ef2f-44c8-974c-ee1db4c29e5c')\"\n",
              "            title=\"Convert this dataframe to an interactive table.\"\n",
              "            style=\"display:none;\">\n",
              "\n",
              "  <svg xmlns=\"http://www.w3.org/2000/svg\" height=\"24px\" viewBox=\"0 -960 960 960\">\n",
              "    <path d=\"M120-120v-720h720v720H120Zm60-500h600v-160H180v160Zm220 220h160v-160H400v160Zm0 220h160v-160H400v160ZM180-400h160v-160H180v160Zm440 0h160v-160H620v160ZM180-180h160v-160H180v160Zm440 0h160v-160H620v160Z\"/>\n",
              "  </svg>\n",
              "    </button>\n",
              "\n",
              "  <style>\n",
              "    .colab-df-container {\n",
              "      display:flex;\n",
              "      gap: 12px;\n",
              "    }\n",
              "\n",
              "    .colab-df-convert {\n",
              "      background-color: #E8F0FE;\n",
              "      border: none;\n",
              "      border-radius: 50%;\n",
              "      cursor: pointer;\n",
              "      display: none;\n",
              "      fill: #1967D2;\n",
              "      height: 32px;\n",
              "      padding: 0 0 0 0;\n",
              "      width: 32px;\n",
              "    }\n",
              "\n",
              "    .colab-df-convert:hover {\n",
              "      background-color: #E2EBFA;\n",
              "      box-shadow: 0px 1px 2px rgba(60, 64, 67, 0.3), 0px 1px 3px 1px rgba(60, 64, 67, 0.15);\n",
              "      fill: #174EA6;\n",
              "    }\n",
              "\n",
              "    .colab-df-buttons div {\n",
              "      margin-bottom: 4px;\n",
              "    }\n",
              "\n",
              "    [theme=dark] .colab-df-convert {\n",
              "      background-color: #3B4455;\n",
              "      fill: #D2E3FC;\n",
              "    }\n",
              "\n",
              "    [theme=dark] .colab-df-convert:hover {\n",
              "      background-color: #434B5C;\n",
              "      box-shadow: 0px 1px 3px 1px rgba(0, 0, 0, 0.15);\n",
              "      filter: drop-shadow(0px 1px 2px rgba(0, 0, 0, 0.3));\n",
              "      fill: #FFFFFF;\n",
              "    }\n",
              "  </style>\n",
              "\n",
              "    <script>\n",
              "      const buttonEl =\n",
              "        document.querySelector('#df-97990bc1-ef2f-44c8-974c-ee1db4c29e5c button.colab-df-convert');\n",
              "      buttonEl.style.display =\n",
              "        google.colab.kernel.accessAllowed ? 'block' : 'none';\n",
              "\n",
              "      async function convertToInteractive(key) {\n",
              "        const element = document.querySelector('#df-97990bc1-ef2f-44c8-974c-ee1db4c29e5c');\n",
              "        const dataTable =\n",
              "          await google.colab.kernel.invokeFunction('convertToInteractive',\n",
              "                                                    [key], {});\n",
              "        if (!dataTable) return;\n",
              "\n",
              "        const docLinkHtml = 'Like what you see? Visit the ' +\n",
              "          '<a target=\"_blank\" href=https://colab.research.google.com/notebooks/data_table.ipynb>data table notebook</a>'\n",
              "          + ' to learn more about interactive tables.';\n",
              "        element.innerHTML = '';\n",
              "        dataTable['output_type'] = 'display_data';\n",
              "        await google.colab.output.renderOutput(dataTable, element);\n",
              "        const docLink = document.createElement('div');\n",
              "        docLink.innerHTML = docLinkHtml;\n",
              "        element.appendChild(docLink);\n",
              "      }\n",
              "    </script>\n",
              "  </div>\n",
              "\n",
              "\n",
              "  <div id=\"id_b49e368f-cbc7-4c10-b26c-620eaa806fac\">\n",
              "    <style>\n",
              "      .colab-df-generate {\n",
              "        background-color: #E8F0FE;\n",
              "        border: none;\n",
              "        border-radius: 50%;\n",
              "        cursor: pointer;\n",
              "        display: none;\n",
              "        fill: #1967D2;\n",
              "        height: 32px;\n",
              "        padding: 0 0 0 0;\n",
              "        width: 32px;\n",
              "      }\n",
              "\n",
              "      .colab-df-generate:hover {\n",
              "        background-color: #E2EBFA;\n",
              "        box-shadow: 0px 1px 2px rgba(60, 64, 67, 0.3), 0px 1px 3px 1px rgba(60, 64, 67, 0.15);\n",
              "        fill: #174EA6;\n",
              "      }\n",
              "\n",
              "      [theme=dark] .colab-df-generate {\n",
              "        background-color: #3B4455;\n",
              "        fill: #D2E3FC;\n",
              "      }\n",
              "\n",
              "      [theme=dark] .colab-df-generate:hover {\n",
              "        background-color: #434B5C;\n",
              "        box-shadow: 0px 1px 3px 1px rgba(0, 0, 0, 0.15);\n",
              "        filter: drop-shadow(0px 1px 2px rgba(0, 0, 0, 0.3));\n",
              "        fill: #FFFFFF;\n",
              "      }\n",
              "    </style>\n",
              "    <button class=\"colab-df-generate\" onclick=\"generateWithVariable('new')\"\n",
              "            title=\"Generate code using this dataframe.\"\n",
              "            style=\"display:none;\">\n",
              "\n",
              "  <svg xmlns=\"http://www.w3.org/2000/svg\" height=\"24px\"viewBox=\"0 0 24 24\"\n",
              "       width=\"24px\">\n",
              "    <path d=\"M7,19H8.4L18.45,9,17,7.55,7,17.6ZM5,21V16.75L18.45,3.32a2,2,0,0,1,2.83,0l1.4,1.43a1.91,1.91,0,0,1,.58,1.4,1.91,1.91,0,0,1-.58,1.4L9.25,21ZM18.45,9,17,7.55Zm-12,3A5.31,5.31,0,0,0,4.9,8.1,5.31,5.31,0,0,0,1,6.5,5.31,5.31,0,0,0,4.9,4.9,5.31,5.31,0,0,0,6.5,1,5.31,5.31,0,0,0,8.1,4.9,5.31,5.31,0,0,0,12,6.5,5.46,5.46,0,0,0,6.5,12Z\"/>\n",
              "  </svg>\n",
              "    </button>\n",
              "    <script>\n",
              "      (() => {\n",
              "      const buttonEl =\n",
              "        document.querySelector('#id_b49e368f-cbc7-4c10-b26c-620eaa806fac button.colab-df-generate');\n",
              "      buttonEl.style.display =\n",
              "        google.colab.kernel.accessAllowed ? 'block' : 'none';\n",
              "\n",
              "      buttonEl.onclick = () => {\n",
              "        google.colab.notebook.generateWithVariable('new');\n",
              "      }\n",
              "      })();\n",
              "    </script>\n",
              "  </div>\n",
              "\n",
              "    </div>\n",
              "  </div>\n"
            ],
            "application/vnd.google.colaboratory.intrinsic+json": {
              "type": "dataframe",
              "variable_name": "new",
              "summary": "{\n  \"name\": \"new\",\n  \"rows\": 1,\n  \"fields\": [\n    {\n      \"column\": \"processed_text\",\n      \"properties\": {\n        \"dtype\": \"string\",\n        \"num_unique_values\": 1,\n        \"samples\": [\n          \"\\u09ae\\u09c7\\u09a1\\u09bf\\u0995\\u09cd\\u09af\\u09be\\u09b2 \\u0995\\u09b2\\u09c7\\u099c \\u09b8\\u0982\\u09b2\\u0997\\u09cd\\u09a8 \\u098f\\u09b2\\u09be\\u0995\\u09be\\u09af\\u09bc \\u0996\\u09c7\\u09b2 \\u098f \\u098f\\u09b2\\u09be\\u0995\\u09be\\u09af\\u09bc \\u09b6\\u09cb\\u09b0\\u0997\\u09cb\\u09b2 \\u09b6\\u09c1\\u09b0\\u09c1 \\u09b8\\u09cd\\u09a5\\u09be\\u09a8\\u09c0\\u09af\\u09bc \\u09ac\\u09be\\u09b8\\u09bf\\u09a8\\u09cd\\u09a6\\u09be\\u09b0\\u09be \\u098f\\u09b2\\u09be\\u0995\\u09be\\u09af\\u09bc \\u09b8\\u09bf\\u09b8\\u09bf \\u0995\\u09cd\\u09af\\u09be\\u09ae\\u09c7\\u09b0\\u09be\\u09b0 \\u09ae\\u09be\\u09a7\\u09cd\\u09af\\u09ae\\u09c7 \\u09a8\\u099c\\u09b0\\u09a6\\u09be\\u09b0\\u09bf\\u09b0 \\u09a6\\u09be\\u09ac\\u09bf \\u099c\\u09be\\u09a8\\u09bf\\u09af\\u09bc\\u09c7\\u099b\\u09c7\\u09a8 \\u09ae\\u09be\\u09a4\\u09cd\\u09b0 \\u0995\\u09af\\u09bc\\u09c7\\u0995 \\u09a6\\u09bf\\u09a8 \\u0986\\u099b\\u09c7\\u0987 \\u09ae\\u09c7\\u09a1\\u09bf\\u0995\\u09cd\\u09af\\u09be\\u09b2 \\u09b2\\u09be\\u0987\\u09a8 \\u0993 \\u09e9\\u09ea \\u09a8\\u09ae\\u09cd\\u09ac\\u09b0 \\u099c\\u09be\\u09a4\\u09c0\\u09af\\u09bc \\u09b8\\u09a1\\u09bc\\u0995\\u09c7\\u09b0 \\u09ae\\u09be\\u099d\\u09c7 \\u098f\\u09ae\\u09a8\\u0987 \\u098f\\u0995 \\u09b8\\u09a6\\u09cd\\u09af\\u09cb\\u099c\\u09be\\u09a4\\u09c7\\u09b0 \\u0996\\u09c1\\u09ac\\u09b2\\u09c7 \\u0996\\u09be\\u0993\\u09af\\u09bc\\u09be \\u09a6\\u09c7\\u09b9 \\u0995\\u09c1\\u0995\\u09c1\\u09b0\\u09a6\\u09c7\\u09b0 \\u09ae\\u09c1\\u0996 \\u0989\\u09a6\\u09cd\\u09a7\\u09be\\u09b0 \\u0995\\u09b0\\u09c7\\u099b\\u09bf\\u09b2\\u09c7\\u09a8 \\u09aa\\u09a5\\u099a\\u09be\\u09b0\\u09c0\\u09b0\\u09be \\u09ab\\u09c7\\u09b0 \\u09b8\\u09c7\\u0987 \\u0998\\u099f\\u09a8\\u09be\\u09b0\\u0987 \\u09aa\\u09c1\\u09a8\\u09b0\\u09be\\u09ac\\u09c3\\u09a4\\u09cd\\u09a4\\u09bf \\u09b9\\u09b2\\u09cb \\u098f\\u09a6\\u09bf\\u09a8\\u09c7\\u09b0 \\u0998\\u099f\\u09a8\\u09be \\u09ae\\u09c7\\u09a1\\u09bf\\u0995\\u09cd\\u09af\\u09be\\u09b2 \\u0995\\u09b2\\u09c7\\u099c\\u09c7\\u09b0 \\u0995\\u09be\\u099b\\u09c7\\u0987 \\u09e9\\u09ea \\u0995\\u09be\\u09b2\\u09c0 \\u09a8\\u09be\\u09ae\\u09c7 \\u098f\\u09b2\\u09be\\u0995\\u09be\\u09b0 \\u09aa\\u09cd\\u09b0\\u09b8\\u09bf\\u09a6\\u09cd\\u09a7 \\u098f\\u0995 \\u09ae\\u09a8\\u09cd\\u09a6\\u09bf\\u09b0\\u09c7\\u09b0 \\u099a\\u09be\\u09a4\\u09be\\u09b2\\u09c7 \\u09b8\\u09cd\\u09a5\\u09be\\u09a8\\u09c0\\u09af\\u09bc \\u09ac\\u09be\\u09b8\\u09bf\\u09a8\\u09cd\\u09a6\\u09be \\u09a4\\u09a5\\u09be \\u09ac\\u09c7\\u09b8\\u09b0\\u0995\\u09be\\u09b0\\u09bf \\u09ae\\u09be\\u09a8\\u09ac\\u09be\\u09a7\\u09bf\\u0995\\u09be\\u09b0 \\u09b8\\u0982\\u09b8\\u09cd\\u09a5\\u09be\\u09b0 \\u0995\\u09b0\\u09cd\\u09a4\\u09be\\u0981\\u09b6\\u09c1\\u09ad\\u09a6\\u09c0\\u09aa \\u09b8\\u09b0\\u0995\\u09be\\u09b0 \\u09ac\\u09b2\\u09c7\\u09a8 \\u09b8\\u0995\\u09be\\u09b2\\u09c7 \\u09af\\u09be\\u0993\\u09af\\u09bc\\u09be\\u09b0 \\u09b8\\u09ae\\u09af\\u09bc \\u09a6\\u09c7\\u0996\\u09a4\\u09c7 \\u09aa\\u09be\\u0987 \\u09ae\\u09a8\\u09cd\\u09a6\\u09bf\\u09b0\\u09c7\\u09b0 \\u0996\\u09ac\\u09b0 \\u09a6\\u09bf\\u0987 \\u09a6\\u09c7\\u09b9\\u099f\\u09bf \\u09a6\\u09c7\\u0996\\u09c7 \\u09ae\\u09a8\\u09c7 \\u0995\\u09af\\u09bc\\u09c7\\u0995 \\u09a6\\u09bf\\u09a8\\u09c7\\u09b0 \\u09aa\\u09c1\\u09b0\\u09cb\\u09a8\\u09cb \\u09ae\\u09c7\\u09a1\\u09bf\\u0995\\u09cd\\u09af\\u09be\\u09b2 \\u09b6\\u09bf\\u09b6\\u09c1\\u099f\\u09bf\\u09b0 \\u09aa\\u09b0\\u09bf\\u09ac\\u09be\\u09b0 \\u0995\\u09cb\\u09a5\\u09be\\u0993 \\u09b9\\u09af\\u09bc\\u09a4\\u09cb \\u09ab\\u09c7\\u09b2\\u09c7 \\u0997\\u09bf\\u09af\\u09bc\\u09c7\\u099b\\u09bf\\u09b2 \\u0995\\u09c1\\u0995\\u09c1\\u09b0\\u09c7 \\u09a6\\u09c7\\u0996\\u09a4\\u09c7 \\u09aa\\u09c7\\u09af\\u09bc\\u09c7 \\u099f\\u09c7\\u09a8\\u09c7 \\u098f\\u09a8\\u09c7\\u099b\\u09c7 \\u098f\\u09b2\\u09be\\u0995\\u09be\\u09af\\u09bc \\u09b9\\u09be\\u09ae\\u09c7\\u09b6\\u09be\\u0987 \\u098f\\u09ae\\u09a8 \\u0985\\u09ae\\u09be\\u09a8\\u09ac\\u09bf\\u0995 \\u0998\\u099f\\u09a8\\u09be \\u0998\\u099f\\u099b\\u09c7 \\u09ad\\u09be\\u09ac\\u09c7\\u0987 \\u09b9\\u09cb\\u0995 \\u098f\\u09b2\\u09be\\u0995\\u09be\\u09af\\u09bc \\u09a8\\u099c\\u09b0\\u09a6\\u09be\\u09b0\\u09bf \\u09ac\\u09be\\u09a1\\u09bc\\u09be\\u09a8\\u09cb \\u09a6\\u09b0\\u0995\\u09be\\u09b0 \\u09ae\\u09c7\\u09af\\u09bc\\u09be\\u09a6 \\u09b6\\u09c7\\u09b7 \\u09b9\\u09af\\u09bc\\u09c7 \\u09af\\u09be\\u0993\\u09af\\u09bc\\u09be\\u09af\\u09bc \\u09ae\\u09be\\u09b2\\u09a6\\u09b9\\u09c7 \\u09ac\\u09b0\\u09cd\\u09a4\\u09ae\\u09be\\u09a8\\u09c7 \\u09b8\\u09bf\\u09a1\\u09ac\\u09cd\\u09bf\\u0989\\u09b8\\u09bf\\u09b0 \\u0995\\u09ae\\u09bf\\u099f\\u09bf \\u09a8\\u09c7\\u0987 \\u09ac\\u09bf\\u09a6\\u09be\\u09af\\u09bc\\u09c0 \\u0995\\u09ae\\u09bf\\u099f\\u09bf\\u09b0 \\u0993\\u0987 \\u098f\\u09b2\\u09be\\u0995\\u09be\\u09af\\u09bc \\u098f\\u0995\\u09be\\u09a7\\u09bf\\u0995 \\u099a\\u09bf\\u0995\\u09bf\\u09ce\\u09b8\\u09be \\u0995\\u09c7\\u09a8\\u09cd\\u09a6\\u09cd\\u09b0 \\u09b0\\u09af\\u09bc\\u09c7\\u099b\\u09c7 \\u098f\\u09ae\\u09a8 \\u09a8\\u09bf\\u09b7\\u09cd\\u09a0\\u09c1\\u09b0 \\u0995\\u09be\\u099c\\u09c7\\u09b0 \\u09a6\\u09be\\u09af\\u09bc \\u0995\\u09c7\\u0989\\u0987 \\u09a8\\u09bf\\u09a4\\u09c7 \\u099a\\u09be\\u09af\\u09bc \\u09a8\\u09be \\u099c\\u09c7\\u09b2\\u09be \\u09aa\\u09cd\\u09b0\\u09b6\\u09c0\\u09b8\\u09a8 \\u0993 \\u09aa\\u09c1\\u09b2\\u09bf\\u09b6\\u09c7\\u09b0 \\u09b8\\u0999\\u09cd\\u0997\\u09c7 \\u0995\\u09a5\\u09be \\u09ac\\u09b2\\u09ac \\u09af\\u09be\\u09a4\\u09c7 \\u098f\\u09b2\\u09be\\u0995\\u09be\\u09af\\u09bc \\u09b8\\u09bf\\u09b8\\u09bf \\u0995\\u09cd\\u09af\\u09be\\u09ae\\u09c7\\u09b0\\u09be\\u09b0 \\u09b8\\u0982\\u0996\\u09cd\\u09af\\u09be \\u09ac\\u09be\\u09a1\\u09bc\\u09bf\\u09af\\u09bc\\u09c7 \\u09a8\\u099c\\u09b0\\u09a6\\u09be\\u09b0\\u09bf \\u09b0\\u09be\\u0996\\u09be \\u09af\\u09be\\u09af\\u09bc \\u09af\\u09c7\\u0987 \\u098f\\u09ae\\u09a8 \\u0995\\u09be\\u099c \\u0995\\u09b0\\u09c1\\u0995 \\u09a4\\u09be\\u09b0 \\u09b6\\u09be\\u09b8\\u09cd\\u09a4\\u09bf \\u09b9\\u0993\\u09af\\u09bc\\u09be \\u09a6\\u09b0\\u0995\\u09be\\u09b0 \\u09e7 \\u0995\\u09be\\u09a6\\u09c1\\u09af\\u09bc\\u09be \\u098f\\u09b2\\u09be\\u0995\\u09be\\u09b0 \\u09b8\\u09ae\\u09c1\\u09a6\\u09cd\\u09b0 \\u09b8\\u09c8\\u0995\\u09a4\\u09c7 \\u098f\\u0995 \\u09ae\\u09b9\\u09bf\\u09b2\\u09be\\u09b0 \\u09ae\\u09c3\\u09a4\\u09a6\\u09c7\\u09b9 \\u0989\\u09a6\\u09cd\\u09a7\\u09be\\u09b0 \\u0995\\u09b0\\u09b2 \\u09aa\\u09c1\\u09b2\\u09bf\\u09b6 \\u09ae\\u0999\\u09cd\\u0997\\u09b2\\u09ac\\u09be\\u09b0 \\u09b8\\u0995\\u09be\\u09b2\\u09c7 \\u09ae\\u09ce\\u09b8\\u09cd\\u09af\\u099c\\u09c0\\u09ac\\u09c0\\u09b0\\u09be \\u09ac\\u099b\\u09b0 \\u09ea\\u09eb\\u098f\\u09b0 \\u098f\\u0995 \\u09ae\\u09b9\\u09bf\\u09b2\\u09be\\u09b0 \\u09ac\\u09bf\\u09ac\\u09b8\\u09cd\\u09a4\\u09cd\\u09b0 \\u09aa\\u099a\\u09be\\u0997\\u09b2\\u09be \\u09a6\\u09c7\\u09b9 \\u09aa\\u09a1\\u09bc\\u09c7 \\u09a5\\u09be\\u0995\\u09a4\\u09c7 \\u09a6\\u09c7\\u0996\\u09c7 \\u09aa\\u09c1\\u09b2\\u09bf\\u09b6\\u09c7 \\u0996\\u09ac\\u09b0 \\u09a6\\u09c7\\u09a8 \\u099c\\u09c1\\u09a8\\u09aa\\u09c1\\u099f \\u0995\\u09cb\\u09b8\\u09cd\\u099f\\u09be\\u09b2 \\u09a5\\u09be\\u09a8\\u09be\\u09b0 \\u09aa\\u09c1\\u09b2\\u09bf\\u09b6 \\u0986\\u0997\\u09c7 \\u09b8\\u09ae\\u09c1\\u09a6\\u09cd\\u09b0\\u09c7\\u09b0 \\u099c\\u09b2\\u09c7 \\u09ad\\u09c7\\u09a6\\u09c7 \\u09b0\\u0983 \\u09b0 \\u098f \\u09b0\\u09be\\u09b0\\u09be\\u09b0\\u09b0\\u09b0\\u09b0\\u09b0\\u09be\\u09b0\\u09be\\u09b0\\u09be\\u09b0\\u09be\\u09b0\\u09be\\u09be\\u09b0\\u09be\\u09b0\\u09be\\u09b0\\u09be\\u09b0\\u09be\\u09be\\u09be\\u09b0\\u09b0\\u09b0\\u09b0\\u09be\\u09b0\\u09be\\u09b0\\u09be\\u09b0\\u09be\\u09b0\\u09be\\u09b0\\u09be\\u09b0\\u09be\\u09b0\\u09be\\u09b0\\u09be\\u09b0\\u09be\\u09b0\\u09be\\u09b0\\u09b0\\u09be\\u09b0\\u09bf\\u09b0\\u0989\"\n        ],\n        \"semantic_type\": \"\",\n        \"description\": \"\"\n      }\n    },\n    {\n      \"column\": \"summary\",\n      \"properties\": {\n        \"dtype\": \"string\",\n        \"num_unique_values\": 1,\n        \"samples\": [\n          \"\\u09ae\\u09be\\u09b2\\u09a6\\u09b9\\u09c7 \\u09ae\\u09c7\\u09a1\\u09bf\\u0995\\u09cd\\u09af\\u09be\\u09b2 \\u0995\\u09b2\\u09c7\\u099c \\u09b8\\u0982\\u09b2\\u0997\\u09cd\\u09a8 \\u098f\\u09b2\\u09be\\u0995\\u09be\\u09af\\u09bc \\u09ae\\u0999\\u09cd\\u0997\\u09b2\\u09ac\\u09be\\u09b0 \\u09b8\\u0995\\u09be\\u09b2\\u09c7 \\u098f\\u0995 \\u09b8\\u09a6\\u09cd\\u09af\\u09cb\\u099c\\u09be\\u09a4\\u09c7\\u09b0 \\u0996\\u09c1\\u09ac\\u09b2\\u09c7 \\u0996\\u09be\\u0993\\u09af\\u09bc\\u09be \\u09a6\\u09c7\\u09b9 \\u0995\\u09c1\\u0995\\u09c1\\u09b0\\u09c7 \\u099f\\u09c7\\u09a8\\u09c7 \\u098f\\u09a8\\u09c7\\u099b\\u09c7 \\u09b8\\u09cd\\u09a5\\u09be\\u09a8\\u09c0\\u09af\\u09bc \\u09ac\\u09be\\u09b8\\u09bf\\u09a8\\u09cd\\u09a6\\u09be\\u09b0\\u09be \\u098f\\u09ac\\u0982 \\u09aa\\u09c1\\u09b2\\u09bf\\u09b6\\u09c7\\u09b0 \\u09ae\\u09a7\\u09cd\\u09af\\u09c7 \\u09b6\\u09cb\\u09b0\\u0997\\u09cb\\u09b2 \\u09b6\\u09c1\\u09b0\\u09c1 \\u09b9\\u09af\\u09bc\\u09c7\\u099b\\u09c7\\u0964\"\n        ],\n        \"semantic_type\": \"\",\n        \"description\": \"\"\n      }\n    }\n  ]\n}"
            }
          },
          "metadata": {},
          "execution_count": 51
        }
      ]
    },
    {
      "cell_type": "code",
      "source": [],
      "metadata": {
        "id": "lcoH4qCqwOF4"
      },
      "execution_count": null,
      "outputs": []
    }
  ]
}